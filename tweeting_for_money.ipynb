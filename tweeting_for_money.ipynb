{
 "cells": [
  {
   "cell_type": "markdown",
   "metadata": {},
   "source": [
    "## Python Implementation"
   ]
  },
  {
   "cell_type": "code",
   "execution_count": 1,
   "metadata": {},
   "outputs": [],
   "source": [
    "import numpy as np\n",
    "import pandas as pd\n",
    "import matplotlib.pyplot as plt\n",
    "import os\n",
    "from datetime import date\n",
    "import json\n",
    "#!pip3 install --upgrade git+https://github.com/JustAnotherArchivist/snscrape@master\n",
    "\n"
   ]
  },
  {
   "cell_type": "code",
   "execution_count": 2,
   "metadata": {},
   "outputs": [],
   "source": [
    "df = pd.read_csv('https://www.dropbox.com/s/hc6s8nu0nt7mw03/linking_table.csv?dl=1')"
   ]
  },
  {
   "cell_type": "code",
   "execution_count": 3,
   "metadata": {},
   "outputs": [],
   "source": [
    "def get_tweet_links_from_username(username):\n",
    "    \"\"\"\n",
    "    Get tweet urls from a username\n",
    "    \"\"\"#--format {{date}};{{content}};{{user}};{{id}} \n",
    "    command = f\"snscrape --jsonl twitter-user {username}  > result_{username}.txt\"\n",
    "    print(f\"Running in terminal: {command}\")\n",
    "    output = os.system(command)\n",
    "    if output != 0:\n",
    "        print(\"Error running command\")\n",
    "        return None\n",
    "\n",
    "    # Read in the result as a list of json objects\n",
    "    with open(f\"result_{username}.txt\", \"r\") as f:\n",
    "        lines = f.readlines()\n",
    "        json_objects = [json.loads(line) for line in lines]\n",
    "\n",
    "    return json_objects\n",
    "        \n",
    "\n",
    "\n",
    "\n"
   ]
  },
  {
   "cell_type": "code",
   "execution_count": 4,
   "metadata": {},
   "outputs": [
    {
     "name": "stdout",
     "output_type": "stream",
     "text": [
      "Running in terminal: snscrape --jsonl twitter-user AltairAdvisers  > result_AltairAdvisers.txt\n"
     ]
    }
   ],
   "source": [
    "tweets = get_tweet_links_from_username(df.username.iloc[0])\n"
   ]
  },
  {
   "cell_type": "code",
   "execution_count": 5,
   "metadata": {},
   "outputs": [
    {
     "name": "stdout",
     "output_type": "stream",
     "text": [
      "Running in terminal: snscrape --jsonl twitter-user AltairAdvisers  > result_AltairAdvisers.txt\n"
     ]
    }
   ],
   "source": [
    "# Get all tweets (takes a lot of time DO NOT RUN)\n",
    "tweets = []\n",
    "for username in df.username.iloc[:1]:\n",
    "    tweets.extend(get_tweet_links_from_username(username))"
   ]
  },
  {
   "cell_type": "markdown",
   "metadata": {},
   "source": [
    "## Preloaded database"
   ]
  },
  {
   "cell_type": "code",
   "execution_count": 6,
   "metadata": {},
   "outputs": [],
   "source": [
    "df = pd.read_csv('https://www.dropbox.com/s/3qxyxquztrw7rik/tweets.csv?dl=1', delimiter=';', lineterminator='\\n')"
   ]
  },
  {
   "cell_type": "code",
   "execution_count": 7,
   "metadata": {},
   "outputs": [
    {
     "data": {
      "text/plain": [
       "1647523"
      ]
     },
     "execution_count": 7,
     "metadata": {},
     "output_type": "execute_result"
    }
   ],
   "source": [
    "len(df)"
   ]
  },
  {
   "cell_type": "code",
   "execution_count": 8,
   "metadata": {},
   "outputs": [
    {
     "data": {
      "text/html": [
       "<div>\n",
       "<style scoped>\n",
       "    .dataframe tbody tr th:only-of-type {\n",
       "        vertical-align: middle;\n",
       "    }\n",
       "\n",
       "    .dataframe tbody tr th {\n",
       "        vertical-align: top;\n",
       "    }\n",
       "\n",
       "    .dataframe thead th {\n",
       "        text-align: right;\n",
       "    }\n",
       "</style>\n",
       "<table border=\"1\" class=\"dataframe\">\n",
       "  <thead>\n",
       "    <tr style=\"text-align: right;\">\n",
       "      <th></th>\n",
       "      <th>id</th>\n",
       "      <th>text</th>\n",
       "      <th>date</th>\n",
       "      <th>username\\r</th>\n",
       "    </tr>\n",
       "  </thead>\n",
       "  <tbody>\n",
       "    <tr>\n",
       "      <th>0</th>\n",
       "      <td>20180491</td>\n",
       "      <td>Checkn out Twitter.  Hello world!</td>\n",
       "      <td>2007-04-05 19:02:05</td>\n",
       "      <td>WellsFargo\\r</td>\n",
       "    </tr>\n",
       "    <tr>\n",
       "      <th>1</th>\n",
       "      <td>780908027</td>\n",
       "      <td>Im the 221st person to take the pledge!</td>\n",
       "      <td>2008-04-01 16:04:51</td>\n",
       "      <td>moneymanagement\\r</td>\n",
       "    </tr>\n",
       "    <tr>\n",
       "      <th>2</th>\n",
       "      <td>780938461</td>\n",
       "      <td>Just posted my first blog entry about taking S...</td>\n",
       "      <td>2008-04-01 16:56:58</td>\n",
       "      <td>moneymanagement\\r</td>\n",
       "    </tr>\n",
       "    <tr>\n",
       "      <th>3</th>\n",
       "      <td>781023623</td>\n",
       "      <td>Keep wishing people Happy Financial Literacy M...</td>\n",
       "      <td>2008-04-01 19:35:11</td>\n",
       "      <td>moneymanagement\\r</td>\n",
       "    </tr>\n",
       "    <tr>\n",
       "      <th>4</th>\n",
       "      <td>781544668</td>\n",
       "      <td>Just took the quiz on Step 2 @www.financiallit...</td>\n",
       "      <td>2008-04-02 15:42:51</td>\n",
       "      <td>moneymanagement\\r</td>\n",
       "    </tr>\n",
       "  </tbody>\n",
       "</table>\n",
       "</div>"
      ],
      "text/plain": [
       "          id                                               text  \\\n",
       "0   20180491                  Checkn out Twitter.  Hello world!   \n",
       "1  780908027            Im the 221st person to take the pledge!   \n",
       "2  780938461  Just posted my first blog entry about taking S...   \n",
       "3  781023623  Keep wishing people Happy Financial Literacy M...   \n",
       "4  781544668  Just took the quiz on Step 2 @www.financiallit...   \n",
       "\n",
       "                  date         username\\r  \n",
       "0  2007-04-05 19:02:05       WellsFargo\\r  \n",
       "1  2008-04-01 16:04:51  moneymanagement\\r  \n",
       "2  2008-04-01 16:56:58  moneymanagement\\r  \n",
       "3  2008-04-01 19:35:11  moneymanagement\\r  \n",
       "4  2008-04-02 15:42:51  moneymanagement\\r  "
      ]
     },
     "execution_count": 8,
     "metadata": {},
     "output_type": "execute_result"
    }
   ],
   "source": [
    "df.head()"
   ]
  },
  {
   "cell_type": "markdown",
   "metadata": {},
   "source": [
    "## POS Tagger and Tokenization - Training Sample"
   ]
  },
  {
   "cell_type": "code",
   "execution_count": 9,
   "metadata": {},
   "outputs": [
    {
     "name": "stderr",
     "output_type": "stream",
     "text": [
      "<frozen importlib._bootstrap>:228: RuntimeWarning: scipy._lib.messagestream.MessageStream size changed, may indicate binary incompatibility. Expected 56 from C header, got 64 from PyObject\n",
      "[nltk_data] Downloading package averaged_perceptron_tagger to\n",
      "[nltk_data]     C:\\Users\\Juan\\AppData\\Roaming\\nltk_data...\n",
      "[nltk_data]   Package averaged_perceptron_tagger is already up-to-\n",
      "[nltk_data]       date!\n"
     ]
    }
   ],
   "source": [
    "from nltk.tokenize import TweetTokenizer\n",
    "custom_sent_tokenizer=TweetTokenizer()\n",
    "from nltk.corpus import stopwords\n",
    "stop_words = set(stopwords.words('english'))\n",
    "import nltk\n",
    "nltk.download('averaged_perceptron_tagger')\n",
    "from collections import Counter\n",
    "from tqdm import tqdm\n",
    "from scipy import stats"
   ]
  },
  {
   "cell_type": "code",
   "execution_count": 10,
   "metadata": {},
   "outputs": [
    {
     "data": {
      "text/html": [
       "<div>\n",
       "<style scoped>\n",
       "    .dataframe tbody tr th:only-of-type {\n",
       "        vertical-align: middle;\n",
       "    }\n",
       "\n",
       "    .dataframe tbody tr th {\n",
       "        vertical-align: top;\n",
       "    }\n",
       "\n",
       "    .dataframe thead th {\n",
       "        text-align: right;\n",
       "    }\n",
       "</style>\n",
       "<table border=\"1\" class=\"dataframe\">\n",
       "  <thead>\n",
       "    <tr style=\"text-align: right;\">\n",
       "      <th></th>\n",
       "      <th>sentiment</th>\n",
       "      <th>text</th>\n",
       "    </tr>\n",
       "  </thead>\n",
       "  <tbody>\n",
       "    <tr>\n",
       "      <th>0</th>\n",
       "      <td>0</td>\n",
       "      <td>@switchfoot http://twitpic.com/2y1zl - Awww, t...</td>\n",
       "    </tr>\n",
       "    <tr>\n",
       "      <th>1</th>\n",
       "      <td>0</td>\n",
       "      <td>is upset that he can't update his Facebook by ...</td>\n",
       "    </tr>\n",
       "    <tr>\n",
       "      <th>2</th>\n",
       "      <td>0</td>\n",
       "      <td>@Kenichan I dived many times for the ball. Man...</td>\n",
       "    </tr>\n",
       "    <tr>\n",
       "      <th>3</th>\n",
       "      <td>0</td>\n",
       "      <td>my whole body feels itchy and like its on fire</td>\n",
       "    </tr>\n",
       "    <tr>\n",
       "      <th>4</th>\n",
       "      <td>0</td>\n",
       "      <td>@nationwideclass no, it's not behaving at all....</td>\n",
       "    </tr>\n",
       "  </tbody>\n",
       "</table>\n",
       "</div>"
      ],
      "text/plain": [
       "   sentiment                                               text\n",
       "0          0  @switchfoot http://twitpic.com/2y1zl - Awww, t...\n",
       "1          0  is upset that he can't update his Facebook by ...\n",
       "2          0  @Kenichan I dived many times for the ball. Man...\n",
       "3          0    my whole body feels itchy and like its on fire \n",
       "4          0  @nationwideclass no, it's not behaving at all...."
      ]
     },
     "execution_count": 10,
     "metadata": {},
     "output_type": "execute_result"
    }
   ],
   "source": [
    "df = pd.read_csv('https://www.dropbox.com/s/b9xfc46e2dmgb28/training.1600000.processed.noemoticon.csv?dl=1', lineterminator='\\n', encoding='latin-1', \n",
    "names=['sentiment', 'id', 'date', 'query', 'user', 'text'])\n",
    "# Keep only text and sentiment\n",
    "df = df[['sentiment', 'text']]\n",
    "df.head()"
   ]
  },
  {
   "cell_type": "code",
   "execution_count": 11,
   "metadata": {},
   "outputs": [],
   "source": [
    "# Create a function to clean the text and compute the POS\n",
    "def clean_text(text):\n",
    "    tokens = custom_sent_tokenizer.tokenize(text)\n",
    "    # Lowercase all tokens\n",
    "    tokens = [token.lower() for token in tokens]\n",
    "    # Remove all punctuation\n",
    "    tokens = [token for token in tokens if token.isalpha()]\n",
    "    # Remove stopwords\n",
    "    tokens = [token for token in tokens if token not in stop_words]\n",
    "    # Part of speech of each token\n",
    "    tagged = nltk.pos_tag(tokens)\n",
    "    return tagged"
   ]
  },
  {
   "cell_type": "code",
   "execution_count": 12,
   "metadata": {},
   "outputs": [
    {
     "data": {
      "text/html": [
       "<div>\n",
       "<style scoped>\n",
       "    .dataframe tbody tr th:only-of-type {\n",
       "        vertical-align: middle;\n",
       "    }\n",
       "\n",
       "    .dataframe tbody tr th {\n",
       "        vertical-align: top;\n",
       "    }\n",
       "\n",
       "    .dataframe thead th {\n",
       "        text-align: right;\n",
       "    }\n",
       "</style>\n",
       "<table border=\"1\" class=\"dataframe\">\n",
       "  <thead>\n",
       "    <tr style=\"text-align: right;\">\n",
       "      <th></th>\n",
       "      <th>sentiment</th>\n",
       "      <th>text</th>\n",
       "    </tr>\n",
       "  </thead>\n",
       "  <tbody>\n",
       "    <tr>\n",
       "      <th>541200</th>\n",
       "      <td>0</td>\n",
       "      <td>@chrishasboobs AHHH I HOPE YOUR OK!!!</td>\n",
       "    </tr>\n",
       "    <tr>\n",
       "      <th>750</th>\n",
       "      <td>0</td>\n",
       "      <td>@misstoriblack cool , i have no tweet apps  fo...</td>\n",
       "    </tr>\n",
       "    <tr>\n",
       "      <th>766711</th>\n",
       "      <td>0</td>\n",
       "      <td>@TiannaChaos i know  just family drama. its la...</td>\n",
       "    </tr>\n",
       "    <tr>\n",
       "      <th>285055</th>\n",
       "      <td>0</td>\n",
       "      <td>School email won't open  and I have geography ...</td>\n",
       "    </tr>\n",
       "    <tr>\n",
       "      <th>705995</th>\n",
       "      <td>0</td>\n",
       "      <td>upper airways problem</td>\n",
       "    </tr>\n",
       "  </tbody>\n",
       "</table>\n",
       "</div>"
      ],
      "text/plain": [
       "        sentiment                                               text\n",
       "541200          0             @chrishasboobs AHHH I HOPE YOUR OK!!! \n",
       "750             0  @misstoriblack cool , i have no tweet apps  fo...\n",
       "766711          0  @TiannaChaos i know  just family drama. its la...\n",
       "285055          0  School email won't open  and I have geography ...\n",
       "705995          0                             upper airways problem "
      ]
     },
     "execution_count": 12,
     "metadata": {},
     "output_type": "execute_result"
    }
   ],
   "source": [
    "# Choose a random subsample of the data\n",
    "# Set seed for pandas\n",
    "\n",
    "df = df.sample(frac=0.01, random_state=42)\n",
    "df.head()"
   ]
  },
  {
   "cell_type": "code",
   "execution_count": 13,
   "metadata": {},
   "outputs": [
    {
     "name": "stderr",
     "output_type": "stream",
     "text": [
      "100%|██████████| 16000/16000 [00:13<00:00, 1221.85it/s]\n"
     ]
    }
   ],
   "source": [
    "# Get all features\n",
    "features = []\n",
    "for index, row in tqdm(df.iterrows(), total=len(df)):\n",
    "    features.extend(clean_text(row['text']))\n"
   ]
  },
  {
   "cell_type": "code",
   "execution_count": 14,
   "metadata": {},
   "outputs": [
    {
     "data": {
      "text/plain": [
       "108481"
      ]
     },
     "execution_count": 14,
     "metadata": {},
     "output_type": "execute_result"
    }
   ],
   "source": [
    "len(features)"
   ]
  },
  {
   "cell_type": "code",
   "execution_count": 15,
   "metadata": {},
   "outputs": [],
   "source": [
    "counter = Counter(features)"
   ]
  },
  {
   "cell_type": "code",
   "execution_count": 16,
   "metadata": {},
   "outputs": [],
   "source": [
    "most_common = counter.most_common(500)\n",
    "most_common = [x[0] for x in most_common]"
   ]
  },
  {
   "cell_type": "code",
   "execution_count": 17,
   "metadata": {},
   "outputs": [
    {
     "name": "stderr",
     "output_type": "stream",
     "text": [
      "100%|██████████| 16000/16000 [00:14<00:00, 1119.98it/s]\n"
     ]
    }
   ],
   "source": [
    "# We vectorize the words and POS of each tweet\n",
    "\n",
    "vectors = []\n",
    "for index, row in tqdm(df.iterrows(), total=len(df)):\n",
    "    words_pos = clean_text(row['text'])\n",
    "    vector = [1 if x in words_pos else 0 for x in most_common ]\n",
    "    vectors.append(vector)\n"
   ]
  },
  {
   "cell_type": "code",
   "execution_count": 18,
   "metadata": {},
   "outputs": [],
   "source": [
    "# We convert vectors into a numpy matrix\n",
    "X = np.array(vectors)\n",
    "y = df.sentiment.apply(lambda x: 1 if x == 4 else 0) # We are trying to estimate positiveness for the moment"
   ]
  },
  {
   "cell_type": "code",
   "execution_count": 19,
   "metadata": {},
   "outputs": [],
   "source": [
    "# We will have a group of classifiers\n",
    "from sklearn.linear_model import LogisticRegression\n",
    "from sklearn.linear_model import LinearRegression\n",
    "from sklearn.svm import SVC\n",
    "from sklearn.ensemble import RandomForestClassifier\n",
    "from sklearn.neighbors import KNeighborsClassifier\n",
    "from sklearn.naive_bayes import GaussianNB\n",
    "from sklearn.tree import DecisionTreeClassifier\n",
    "from sklearn.ensemble import AdaBoostClassifier\n",
    "from sklearn.ensemble import GradientBoostingClassifier\n",
    "\n",
    "\n"
   ]
  },
  {
   "cell_type": "code",
   "execution_count": 20,
   "metadata": {},
   "outputs": [
    {
     "name": "stderr",
     "output_type": "stream",
     "text": [
      "100%|██████████| 9/9 [03:47<00:00, 25.24s/it]\n"
     ]
    }
   ],
   "source": [
    "abstract_models = [\n",
    "LogisticRegression,\n",
    "LinearRegression,\n",
    "SVC,\n",
    "RandomForestClassifier,\n",
    "KNeighborsClassifier,\n",
    "GaussianNB,\n",
    "DecisionTreeClassifier,\n",
    "AdaBoostClassifier,\n",
    "GradientBoostingClassifier]\n",
    "\n",
    "trained_models=[]\n",
    "for am in tqdm(abstract_models):\n",
    "    model = am()\n",
    "    model.fit(X, y)\n",
    "    model.predict(X)\n",
    "    trained_models.append(model)"
   ]
  },
  {
   "cell_type": "code",
   "execution_count": 21,
   "metadata": {},
   "outputs": [],
   "source": [
    "def voting_scheme(X):\n",
    "    ys=[]\n",
    "    for tm in tqdm(trained_models):\n",
    "        y_hat = np.round(tm.predict(X), decimals=0) \n",
    "        ys.extend(y_hat)\n",
    "    \n",
    "    # Convert it to a matrix\n",
    "    vs = np.array(ys).reshape(X.shape[0], len(trained_models))\n",
    "\n",
    "    # We return the classification and the voting scheme\n",
    "    return (stats.mode(vs, axis = 1)[0], np.mean(vs, axis = 1))"
   ]
  },
  {
   "cell_type": "code",
   "execution_count": 22,
   "metadata": {},
   "outputs": [],
   "source": [
    "# Compute the voting scheme and classification for the MF tweets, \n",
    "df = pd.read_csv('https://www.dropbox.com/s/3qxyxquztrw7rik/tweets.csv?dl=1', delimiter=';', lineterminator='\\n')"
   ]
  },
  {
   "cell_type": "code",
   "execution_count": 23,
   "metadata": {},
   "outputs": [],
   "source": [
    "df = df.sample(frac=0.01, random_state=42)"
   ]
  },
  {
   "cell_type": "code",
   "execution_count": 24,
   "metadata": {},
   "outputs": [
    {
     "name": "stderr",
     "output_type": "stream",
     "text": [
      "100%|██████████| 16040/16040 [00:16<00:00, 995.64it/s] \n"
     ]
    }
   ],
   "source": [
    "# Remove nan from text in df\n",
    "df = df[df.text.notnull()]\n",
    "\n",
    "# Build matrix X\n",
    "vectors = []\n",
    "for index, row in tqdm(df.iterrows(), total=len(df)):\n",
    "    words_pos = clean_text(row['text'])\n",
    "    vector = [1 if x in words_pos else 0 for x in most_common ]\n",
    "    vectors.append(vector)\n",
    "\n",
    "X = np.array(vectors)\n"
   ]
  },
  {
   "cell_type": "code",
   "execution_count": 25,
   "metadata": {},
   "outputs": [
    {
     "name": "stderr",
     "output_type": "stream",
     "text": [
      "100%|██████████| 9/9 [01:20<00:00,  8.96s/it]\n"
     ]
    }
   ],
   "source": [
    "classification, voting = voting_scheme(X)"
   ]
  },
  {
   "cell_type": "markdown",
   "metadata": {},
   "source": [
    "## Latent Dirichlet Allocation"
   ]
  },
  {
   "cell_type": "code",
   "execution_count": 26,
   "metadata": {},
   "outputs": [],
   "source": [
    "# First we need the text tokenized\n",
    "docs = df.text.apply(lambda x: [l[0] for l in clean_text(x)]).tolist()"
   ]
  },
  {
   "cell_type": "code",
   "execution_count": 27,
   "metadata": {},
   "outputs": [
    {
     "data": {
      "text/plain": [
       "['stocks',\n",
       " 'risen',\n",
       " 'dollar',\n",
       " 'year',\n",
       " 'expect',\n",
       " 'gap',\n",
       " 'widen',\n",
       " 'quarterly',\n",
       " 'review']"
      ]
     },
     "execution_count": 27,
     "metadata": {},
     "output_type": "execute_result"
    }
   ],
   "source": [
    "docs[0]"
   ]
  },
  {
   "cell_type": "code",
   "execution_count": 28,
   "metadata": {},
   "outputs": [
    {
     "name": "stdout",
     "output_type": "stream",
     "text": [
      "Checking stopwords that were not filtered\n"
     ]
    },
    {
     "name": "stderr",
     "output_type": "stream",
     "text": [
      "16040it [00:00, 517739.59it/s]\n"
     ]
    }
   ],
   "source": [
    "print(\"Checking stopwords that were not filtered\")\n",
    "sw = ['http', 'url', 'tinyurl', 'twurl', 'com', 'html', 'www', 'bit', 'ly', 'amp', 'u']\n",
    "for (i_d,doc) in tqdm(enumerate(docs)):\n",
    "    temp = doc\n",
    "    for token in doc:\n",
    "        if token in sw:\n",
    "            temp.remove(token)\n",
    "    docs[i_d] = temp"
   ]
  },
  {
   "cell_type": "code",
   "execution_count": 29,
   "metadata": {},
   "outputs": [
    {
     "name": "stderr",
     "output_type": "stream",
     "text": [
      "100%|██████████| 16040/16040 [00:00<00:00, 72762.57it/s]\n"
     ]
    }
   ],
   "source": [
    "from gensim.models import Phrases\n",
    "# Remove rare and common tokens.\n",
    "from gensim.corpora import Dictionary\n",
    "# Train LDA model.\n",
    "from gensim.models import LdaModel, LdaMulticore\n",
    "\n",
    "bigram = Phrases(docs, min_count=20)\n",
    "for idx in tqdm(range(len(docs))):\n",
    "    for token in bigram[docs[idx]]:\n",
    "        if '_' in token:\n",
    "            # Token is a bigram, add to document.\n",
    "            docs[idx].append(token)"
   ]
  },
  {
   "cell_type": "code",
   "execution_count": 30,
   "metadata": {},
   "outputs": [],
   "source": [
    "# Create a dictionary representation of the documents.\n",
    "dictionary = Dictionary(docs)\n",
    "\n",
    "# Filter out words that occur less than 20 documents\n",
    "dictionary.filter_extremes(no_below=20)"
   ]
  },
  {
   "cell_type": "code",
   "execution_count": 31,
   "metadata": {},
   "outputs": [
    {
     "name": "stdout",
     "output_type": "stream",
     "text": [
      "Number of unique tokens: 1447\n",
      "Number of documents: 16040\n"
     ]
    }
   ],
   "source": [
    "corpus = [dictionary.doc2bow(doc) for doc in docs]\n",
    "# %%\n",
    "print('Number of unique tokens: %d' % len(dictionary))\n",
    "print('Number of documents: %d' % len(corpus))"
   ]
  },
  {
   "cell_type": "code",
   "execution_count": 32,
   "metadata": {},
   "outputs": [],
   "source": [
    "num_topics = 3\n",
    "chunksize = 20000\n",
    "passes = 20\n",
    "iterations = 100\n",
    "eval_every = None  # Don't evaluate model perplexity, takes too much time.\n",
    "\n",
    "# Make a index to word dictionary.\n",
    "temp = dictionary[0]  # This is only to \"load\" the dictionary.\n",
    "id2word = dictionary.id2token"
   ]
  },
  {
   "cell_type": "code",
   "execution_count": 33,
   "metadata": {},
   "outputs": [],
   "source": [
    "lda = LdaModel(corpus, num_topics=3, \n",
    "id2word=id2word, chunksize=chunksize, \n",
    "passes=passes, iterations=iterations, \n",
    " eval_every=eval_every)"
   ]
  },
  {
   "cell_type": "code",
   "execution_count": 34,
   "metadata": {},
   "outputs": [],
   "source": [
    "top_topics = lda.top_topics(corpus)"
   ]
  },
  {
   "cell_type": "code",
   "execution_count": 35,
   "metadata": {},
   "outputs": [
    {
     "name": "stdout",
     "output_type": "stream",
     "text": [
      "Average topic coherence: -4.0118.\n",
      "[([(0.033840086, 'thanks'),\n",
      "   (0.032467555, 'us'),\n",
      "   (0.0303191, 'hi'),\n",
      "   (0.027919728, 'please'),\n",
      "   (0.01814544, 'help'),\n",
      "   (0.014273567, 'call'),\n",
      "   (0.012996359, 'sorry'),\n",
      "   (0.012607945, 'dm'),\n",
      "   (0.01181953, 'team'),\n",
      "   (0.011124165, 'thank'),\n",
      "   (0.010992922, 'like'),\n",
      "   (0.010408699, 'hear'),\n",
      "   (0.009530798, 'contact'),\n",
      "   (0.009386367, 'account'),\n",
      "   (0.008955316, 'happy'),\n",
      "   (0.008043475, 'know'),\n",
      "   (0.007818624, 'would'),\n",
      "   (0.0076213013, 'number'),\n",
      "   (0.0075311353, 'card'),\n",
      "   (0.007096918, 'send')],\n",
      "  -2.427544337576867),\n",
      " ([(0.014745722, 'market'),\n",
      "   (0.011923028, 'us'),\n",
      "   (0.010956343, 'may'),\n",
      "   (0.006974778, 'today'),\n",
      "   (0.006381951, 'global'),\n",
      "   (0.0062118773, 'year'),\n",
      "   (0.0062090247, 'portfolio'),\n",
      "   (0.0061266236, 'good'),\n",
      "   (0.0060474877, 'investment'),\n",
      "   (0.005981235, 'join'),\n",
      "   (0.0059132217, 'w'),\n",
      "   (0.0057511614, 'growth'),\n",
      "   (0.00565765, 'research'),\n",
      "   (0.0056011607, 'et'),\n",
      "   (0.0055512628, 'see'),\n",
      "   (0.0054716435, 'one'),\n",
      "   (0.005449322, 'value'),\n",
      "   (0.005228668, 'impact'),\n",
      "   (0.005156366, 'look'),\n",
      "   (0.005078223, 'business')],\n",
      "  -4.404125588738538),\n",
      " ([(0.015928827, 'new'),\n",
      "   (0.011118446, 'via'),\n",
      "   (0.010414253, 'learn'),\n",
      "   (0.0100400625, 'financial'),\n",
      "   (0.007662724, 'week'),\n",
      "   (0.0076553654, 'help'),\n",
      "   (0.007639395, 'today'),\n",
      "   (0.0072212024, 'ipo'),\n",
      "   (0.007157483, 'read'),\n",
      "   (0.006952879, 'markets'),\n",
      "   (0.0057901065, 'time'),\n",
      "   (0.005774852, 'market'),\n",
      "   (0.005666135, 'investing'),\n",
      "   (0.00560061, 'investors'),\n",
      "   (0.0053142793, 'see'),\n",
      "   (0.005220052, 'money'),\n",
      "   (0.004970354, 'first'),\n",
      "   (0.0048763533, 'get'),\n",
      "   (0.004749779, 'retirement'),\n",
      "   (0.0047254316, 'income')],\n",
      "  -5.20385959207527)]\n"
     ]
    }
   ],
   "source": [
    "  # Average topic coherence is the sum of topic coherences of all topics, divided by the number of topics.\n",
    "avg_topic_coherence = sum([t[1] for t in top_topics]) / num_topics\n",
    "print('Average topic coherence: %.4f.' % avg_topic_coherence)\n",
    "from pprint import pprint\n",
    "pprint(top_topics)"
   ]
  },
  {
   "cell_type": "code",
   "execution_count": 36,
   "metadata": {},
   "outputs": [
    {
     "data": {
      "image/png": "[encoded data removed]",
      "text/plain": [
       "<Figure size 432x288 with 1 Axes>"
      ]
     },
     "metadata": {
      "needs_background": "light"
     },
     "output_type": "display_data"
    },
    {
     "data": {
      "image/png": "[encoded data removed]",
      "text/plain": [
       "<Figure size 432x288 with 1 Axes>"
      ]
     },
     "metadata": {
      "needs_background": "light"
     },
     "output_type": "display_data"
    },
    {
     "data": {
      "image/png": "[encoded data removed]",
      "text/plain": [
       "<Figure size 432x288 with 1 Axes>"
      ]
     },
     "metadata": {
      "needs_background": "light"
     },
     "output_type": "display_data"
    }
   ],
   "source": [
    "    import matplotlib.pyplot as plt\n",
    "    from wordcloud import WordCloud, STOPWORDS\n",
    "    for i_t, t in enumerate(top_topics):\n",
    "        freqs = t[0]\n",
    "        info = {}\n",
    "        for f in freqs:\n",
    "            info[f[1]] = f[0]\n",
    "\n",
    "        plt.figure()\n",
    "        plt.imshow(WordCloud(background_color='white').fit_words(info))\n",
    "        plt.axis(\"off\")\n",
    "        plt.title(\"Topic #\" + str(i_t))\n",
    "        plt.show()"
   ]
  },
  {
   "cell_type": "code",
   "execution_count": null,
   "metadata": {},
   "outputs": [],
   "source": []
  }
 ],
 "metadata": {
  "interpreter": {
   "hash": "5794e3f2d1f04d75de2fdd8549157c71c4ca5337e1c7132e6c21a4ca72f43f60"
  },
  "kernelspec": {
   "display_name": "Python 3.9.6 ('env39')",
   "language": "python",
   "name": "python3"
  },
  "language_info": {
   "codemirror_mode": {
    "name": "ipython",
    "version": 3
   },
   "file_extension": ".py",
   "mimetype": "text/x-python",
   "name": "python",
   "nbconvert_exporter": "python",
   "pygments_lexer": "ipython3",
   "version": "3.9.6"
  },
  "orig_nbformat": 4
 },
 "nbformat": 4,
 "nbformat_minor": 2
}
